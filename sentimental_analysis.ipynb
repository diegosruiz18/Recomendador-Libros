{
 "cells": [
  {
   "metadata": {},
   "cell_type": "markdown",
   "source": "# Análisis de sentimientos",
   "id": "d259fbcaa642cfd3"
  },
  {
   "metadata": {},
   "cell_type": "markdown",
   "source": "A continuación utilizaremos LLM para realizar análisis de sentimientos, extrayendo características basadas en emociones (por ejm: libros con contenido de suspenso, de autoestima, felicidad, etc), dicha información puede ser bastante útil al aplicarla como filtro para recomendaciones de libros.",
   "id": "c97b67c4aa0ff35c"
  },
  {
   "metadata": {
    "ExecuteTime": {
     "end_time": "2025-06-28T05:52:51.134267Z",
     "start_time": "2025-06-28T05:52:51.032146Z"
    }
   },
   "cell_type": "code",
   "source": [
    "#Importando librerías\n",
    "import pandas as pd\n",
    "\n",
    "libros = pd.read_csv(\"books_with_categories.csv\")"
   ],
   "id": "35797c95f6822a9",
   "outputs": [],
   "execution_count": 1
  },
  {
   "metadata": {
    "ExecuteTime": {
     "end_time": "2025-06-28T05:53:01.806983Z",
     "start_time": "2025-06-28T05:52:51.155275Z"
    }
   },
   "cell_type": "code",
   "source": [
    "#Usando un modelo de HuggingFace\n",
    "from transformers import pipeline\n",
    "classifier = pipeline(\"text-classification\", model=\"j-hartmann/emotion-english-distilroberta-base\", top_k=None)\n",
    "classifier(\"I love this!\")"
   ],
   "id": "a1dd212152a7b0ef",
   "outputs": [
    {
     "name": "stderr",
     "output_type": "stream",
     "text": [
      "Device set to use cpu\n"
     ]
    },
    {
     "data": {
      "text/plain": [
       "[[{'label': 'joy', 'score': 0.9771687984466553},\n",
       "  {'label': 'surprise', 'score': 0.008528684265911579},\n",
       "  {'label': 'neutral', 'score': 0.005764583125710487},\n",
       "  {'label': 'anger', 'score': 0.004419783595949411},\n",
       "  {'label': 'sadness', 'score': 0.002092392183840275},\n",
       "  {'label': 'disgust', 'score': 0.0016119909705594182},\n",
       "  {'label': 'fear', 'score': 0.00041385277290828526}]]"
      ]
     },
     "execution_count": 2,
     "metadata": {},
     "output_type": "execute_result"
    }
   ],
   "execution_count": 2
  },
  {
   "metadata": {},
   "cell_type": "markdown",
   "source": "Aplicamos el modelo para predecir la emoción general de las descripciones.",
   "id": "1badf1f87e678c17"
  },
  {
   "metadata": {
    "ExecuteTime": {
     "end_time": "2025-06-28T05:53:02.453377Z",
     "start_time": "2025-06-28T05:53:02.448052Z"
    }
   },
   "cell_type": "code",
   "source": "libros[\"description\"][0]",
   "id": "837e2c57274756fd",
   "outputs": [
    {
     "data": {
      "text/plain": [
       "'A NOVEL THAT READERS and critics have been eagerly anticipating for over a decade, Gilead is an astonishingly imagined story of remarkable lives. John Ames is a preacher, the son of a preacher and the grandson (both maternal and paternal) of preachers. It’s 1956 in Gilead, Iowa, towards the end of the Reverend Ames’s life, and he is absorbed in recording his family’s story, a legacy for the young son he will never see grow up. Haunted by his grandfather’s presence, John tells of the rift between his grandfather and his father: the elder, an angry visionary who fought for the abolitionist cause, and his son, an ardent pacifist. He is troubled, too, by his prodigal namesake, Jack (John Ames) Boughton, his best friend’s lost son who returns to Gilead searching for forgiveness and redemption. Told in John Ames’s joyous, rambling voice that finds beauty, humour and truth in the smallest of life’s details, Gilead is a song of celebration and acceptance of the best and the worst the world has to offer. At its heart is a tale of the sacred bonds between fathers and sons, pitch-perfect in style and story, set to dazzle critics and readers alike.'"
      ]
     },
     "execution_count": 3,
     "metadata": {},
     "output_type": "execute_result"
    }
   ],
   "execution_count": 3
  },
  {
   "metadata": {
    "ExecuteTime": {
     "end_time": "2025-06-28T05:53:02.596692Z",
     "start_time": "2025-06-28T05:53:02.475484Z"
    }
   },
   "cell_type": "code",
   "source": [
    "#Aplicando el modelo a toda la descripción\n",
    "classifier(libros[\"description\"][0])"
   ],
   "id": "53912ab9c644bed3",
   "outputs": [
    {
     "data": {
      "text/plain": [
       "[[{'label': 'fear', 'score': 0.6548405885696411},\n",
       "  {'label': 'neutral', 'score': 0.16985228657722473},\n",
       "  {'label': 'sadness', 'score': 0.11640921980142593},\n",
       "  {'label': 'surprise', 'score': 0.02070065587759018},\n",
       "  {'label': 'disgust', 'score': 0.019100677222013474},\n",
       "  {'label': 'joy', 'score': 0.01516144908964634},\n",
       "  {'label': 'anger', 'score': 0.003935146611183882}]]"
      ]
     },
     "execution_count": 4,
     "metadata": {},
     "output_type": "execute_result"
    }
   ],
   "execution_count": 4
  },
  {
   "metadata": {},
   "cell_type": "markdown",
   "source": "Hay mayor probabilidad (65%) de que el contenido sea de miedo o terror. Sin embargo al leer la descripción completa parece haber más de un sentimiento, por lo que separaremos en oraciones y aplicaremos nuevamente el modelo.",
   "id": "a8bf177154758d30"
  },
  {
   "metadata": {
    "ExecuteTime": {
     "end_time": "2025-06-28T05:53:03.027962Z",
     "start_time": "2025-06-28T05:53:02.737833Z"
    }
   },
   "cell_type": "code",
   "source": "classifier(libros[\"description\"][0].split(\".\"))",
   "id": "201cd7e2735aa8ca",
   "outputs": [
    {
     "data": {
      "text/plain": [
       "[[{'label': 'surprise', 'score': 0.7296020984649658},\n",
       "  {'label': 'neutral', 'score': 0.14038600027561188},\n",
       "  {'label': 'fear', 'score': 0.06816228479146957},\n",
       "  {'label': 'joy', 'score': 0.04794260859489441},\n",
       "  {'label': 'anger', 'score': 0.009156366810202599},\n",
       "  {'label': 'disgust', 'score': 0.0026284765917807817},\n",
       "  {'label': 'sadness', 'score': 0.002122163539752364}],\n",
       " [{'label': 'neutral', 'score': 0.44937002658843994},\n",
       "  {'label': 'disgust', 'score': 0.27359163761138916},\n",
       "  {'label': 'joy', 'score': 0.10908330976963043},\n",
       "  {'label': 'sadness', 'score': 0.09362746775150299},\n",
       "  {'label': 'anger', 'score': 0.04047830402851105},\n",
       "  {'label': 'surprise', 'score': 0.026970159262418747},\n",
       "  {'label': 'fear', 'score': 0.006879047024995089}],\n",
       " [{'label': 'neutral', 'score': 0.6462159752845764},\n",
       "  {'label': 'sadness', 'score': 0.24273329973220825},\n",
       "  {'label': 'disgust', 'score': 0.04342271760106087},\n",
       "  {'label': 'surprise', 'score': 0.028300564736127853},\n",
       "  {'label': 'joy', 'score': 0.014211472123861313},\n",
       "  {'label': 'fear', 'score': 0.0140841044485569},\n",
       "  {'label': 'anger', 'score': 0.011031901463866234}],\n",
       " [{'label': 'fear', 'score': 0.9281681180000305},\n",
       "  {'label': 'anger', 'score': 0.032191041857004166},\n",
       "  {'label': 'neutral', 'score': 0.01280867587774992},\n",
       "  {'label': 'sadness', 'score': 0.008756861090660095},\n",
       "  {'label': 'surprise', 'score': 0.008597906678915024},\n",
       "  {'label': 'disgust', 'score': 0.008431818336248398},\n",
       "  {'label': 'joy', 'score': 0.0010455837473273277}],\n",
       " [{'label': 'sadness', 'score': 0.9671575427055359},\n",
       "  {'label': 'neutral', 'score': 0.015104127116501331},\n",
       "  {'label': 'disgust', 'score': 0.006480589509010315},\n",
       "  {'label': 'fear', 'score': 0.005393980070948601},\n",
       "  {'label': 'surprise', 'score': 0.002286937553435564},\n",
       "  {'label': 'anger', 'score': 0.0018428878393024206},\n",
       "  {'label': 'joy', 'score': 0.0017338756006211042}],\n",
       " [{'label': 'joy', 'score': 0.932798445224762},\n",
       "  {'label': 'disgust', 'score': 0.0377168171107769},\n",
       "  {'label': 'neutral', 'score': 0.015891803428530693},\n",
       "  {'label': 'sadness', 'score': 0.006444480270147324},\n",
       "  {'label': 'anger', 'score': 0.005024945829063654},\n",
       "  {'label': 'surprise', 'score': 0.0015812049387022853},\n",
       "  {'label': 'fear', 'score': 0.0005423048860393465}],\n",
       " [{'label': 'joy', 'score': 0.6528708338737488},\n",
       "  {'label': 'neutral', 'score': 0.25427478551864624},\n",
       "  {'label': 'surprise', 'score': 0.06808284670114517},\n",
       "  {'label': 'sadness', 'score': 0.009908987209200859},\n",
       "  {'label': 'disgust', 'score': 0.0065122200176119804},\n",
       "  {'label': 'anger', 'score': 0.004821304697543383},\n",
       "  {'label': 'fear', 'score': 0.0035290175583213568}],\n",
       " [{'label': 'neutral', 'score': 0.5494767427444458},\n",
       "  {'label': 'sadness', 'score': 0.11169017851352692},\n",
       "  {'label': 'disgust', 'score': 0.10400667786598206},\n",
       "  {'label': 'surprise', 'score': 0.07876550406217575},\n",
       "  {'label': 'anger', 'score': 0.0641336441040039},\n",
       "  {'label': 'fear', 'score': 0.05136283114552498},\n",
       "  {'label': 'joy', 'score': 0.04056443274021149}]]"
      ]
     },
     "execution_count": 5,
     "metadata": {},
     "output_type": "execute_result"
    }
   ],
   "execution_count": 5
  },
  {
   "metadata": {},
   "cell_type": "markdown",
   "source": "Tenemos muchas más emociones encontradas, por ejemplo en la primera oración predomina la emoción de sorpresa, en la segunda oración predomina emoción neutral, etc.",
   "id": "7aa4f1b78378d557"
  },
  {
   "metadata": {
    "ExecuteTime": {
     "end_time": "2025-06-28T05:53:03.319105Z",
     "start_time": "2025-06-28T05:53:03.045868Z"
    }
   },
   "cell_type": "code",
   "source": [
    "#Comparando predicciones con las oraciones\n",
    "oraciones = libros[\"description\"][0].split(\".\")\n",
    "predicciones = classifier(oraciones)"
   ],
   "id": "2f9b7db6d1fa07ae",
   "outputs": [],
   "execution_count": 6
  },
  {
   "metadata": {
    "ExecuteTime": {
     "end_time": "2025-06-28T05:53:03.342277Z",
     "start_time": "2025-06-28T05:53:03.336541Z"
    }
   },
   "cell_type": "code",
   "source": "predicciones[0] #primera predicción",
   "id": "273dc92e21ec045e",
   "outputs": [
    {
     "data": {
      "text/plain": [
       "[{'label': 'surprise', 'score': 0.7296020984649658},\n",
       " {'label': 'neutral', 'score': 0.14038600027561188},\n",
       " {'label': 'fear', 'score': 0.06816228479146957},\n",
       " {'label': 'joy', 'score': 0.04794260859489441},\n",
       " {'label': 'anger', 'score': 0.009156366810202599},\n",
       " {'label': 'disgust', 'score': 0.0026284765917807817},\n",
       " {'label': 'sadness', 'score': 0.002122163539752364}]"
      ]
     },
     "execution_count": 7,
     "metadata": {},
     "output_type": "execute_result"
    }
   ],
   "execution_count": 7
  },
  {
   "metadata": {
    "ExecuteTime": {
     "end_time": "2025-06-28T05:53:03.388494Z",
     "start_time": "2025-06-28T05:53:03.382489Z"
    }
   },
   "cell_type": "code",
   "source": "oraciones[0] #primera oración",
   "id": "a2bd1a78fb86430f",
   "outputs": [
    {
     "data": {
      "text/plain": [
       "'A NOVEL THAT READERS and critics have been eagerly anticipating for over a decade, Gilead is an astonishingly imagined story of remarkable lives'"
      ]
     },
     "execution_count": 8,
     "metadata": {},
     "output_type": "execute_result"
    }
   ],
   "execution_count": 8
  },
  {
   "metadata": {},
   "cell_type": "markdown",
   "source": "En efecto el contenido de la primera oración tiene una tonalidad de sorpresa.",
   "id": "cfdb45e775dcb593"
  },
  {
   "metadata": {
    "ExecuteTime": {
     "end_time": "2025-06-28T05:53:03.468787Z",
     "start_time": "2025-06-28T05:53:03.462129Z"
    }
   },
   "cell_type": "code",
   "source": "predicciones[3] #cuarta predicción",
   "id": "5388c0d166c99ee8",
   "outputs": [
    {
     "data": {
      "text/plain": [
       "[{'label': 'fear', 'score': 0.9281681180000305},\n",
       " {'label': 'anger', 'score': 0.032191041857004166},\n",
       " {'label': 'neutral', 'score': 0.01280867587774992},\n",
       " {'label': 'sadness', 'score': 0.008756861090660095},\n",
       " {'label': 'surprise', 'score': 0.008597906678915024},\n",
       " {'label': 'disgust', 'score': 0.008431818336248398},\n",
       " {'label': 'joy', 'score': 0.0010455837473273277}]"
      ]
     },
     "execution_count": 9,
     "metadata": {},
     "output_type": "execute_result"
    }
   ],
   "execution_count": 9
  },
  {
   "metadata": {
    "ExecuteTime": {
     "end_time": "2025-06-28T05:53:03.529818Z",
     "start_time": "2025-06-28T05:53:03.525445Z"
    }
   },
   "cell_type": "code",
   "source": "oraciones[3]",
   "id": "78adcd38c8186865",
   "outputs": [
    {
     "data": {
      "text/plain": [
       "' Haunted by his grandfather’s presence, John tells of the rift between his grandfather and his father: the elder, an angry visionary who fought for the abolitionist cause, and his son, an ardent pacifist'"
      ]
     },
     "execution_count": 10,
     "metadata": {},
     "output_type": "execute_result"
    }
   ],
   "execution_count": 10
  },
  {
   "metadata": {},
   "cell_type": "markdown",
   "source": "Al leer el contenido de la oración nos damos cuenta que están presentes las emociones de miedo, enojo, tristeza. El clasificador realiza bien su trabajo.",
   "id": "3af4286ea734d25"
  },
  {
   "metadata": {},
   "cell_type": "markdown",
   "source": "A continuación, elaboramos una lista de las siete emociones para cada libro, a cada emoción se le asignará el valor más alto que tenga en cualquier oración. De esta manera obtenemos una lista principal de emociones con sus valores máximos",
   "id": "10d868860516a6a3"
  },
  {
   "metadata": {
    "ExecuteTime": {
     "end_time": "2025-06-28T05:53:03.592911Z",
     "start_time": "2025-06-28T05:53:03.587845Z"
    }
   },
   "cell_type": "code",
   "source": [
    "#Ordenando la lista de emociones para que las etiquetas tengan siempre el mismo orden\n",
    "sorted(predicciones[0], key=lambda x: x[\"label\"]) #ordenar por \"label\""
   ],
   "id": "80aabbf572d406e",
   "outputs": [
    {
     "data": {
      "text/plain": [
       "[{'label': 'anger', 'score': 0.009156366810202599},\n",
       " {'label': 'disgust', 'score': 0.0026284765917807817},\n",
       " {'label': 'fear', 'score': 0.06816228479146957},\n",
       " {'label': 'joy', 'score': 0.04794260859489441},\n",
       " {'label': 'neutral', 'score': 0.14038600027561188},\n",
       " {'label': 'sadness', 'score': 0.002122163539752364},\n",
       " {'label': 'surprise', 'score': 0.7296020984649658}]"
      ]
     },
     "execution_count": 11,
     "metadata": {},
     "output_type": "execute_result"
    }
   ],
   "execution_count": 11
  },
  {
   "metadata": {
    "ExecuteTime": {
     "end_time": "2025-06-28T05:53:03.653649Z",
     "start_time": "2025-06-28T05:53:03.648624Z"
    }
   },
   "cell_type": "code",
   "source": [
    "#Función para obtener la máxima probabilidad de cada emoción\n",
    "import numpy as np\n",
    "\n",
    "labels_emociones = [\"anger\", \"disgust\", \"fear\", \"joy\", \"neutral\", \"sadness\", \"surprise\"]\n",
    "isbn = [] #para guardar códigos isbn13\n",
    "scores_emocion = {label: [] for label in labels_emociones} #diccionario\n",
    "\n",
    "#Creando función\n",
    "def calcular_max_scores_emocion(predicciones):\n",
    "    per_scores_emocion = {label: [] for label in labels_emociones} #contendrá todas las predicciones para una descripción\n",
    "    for prediccion in predicciones: #recorrer cada oración\n",
    "        predicciones_ordenadas = sorted(prediccion, key=lambda x: x[\"label\"]) #ordenamos la predicción por label\n",
    "        for index, label in enumerate(labels_emociones):\n",
    "            per_scores_emocion[label].append(predicciones_ordenadas[index][\"score\"]) #se guarda score por cada emocion\n",
    "    return {label: np.max(scores) for label, scores in per_scores_emocion.items()} #tomamos el score maximo para cada emocion"
   ],
   "id": "468adcc5ffa9d02e",
   "outputs": [],
   "execution_count": 12
  },
  {
   "metadata": {
    "ExecuteTime": {
     "end_time": "2025-06-28T05:53:05.098406Z",
     "start_time": "2025-06-28T05:53:03.682884Z"
    }
   },
   "cell_type": "code",
   "source": [
    "#Aplicando la función a los libros (10 primeros)\n",
    "for i in range(10):\n",
    "    isbn.append(libros[\"isbn13\"][i]) #guardamos codigos isbn13 en lista\n",
    "    oraciones = libros[\"description\"][i].split(\".\") #diviendo descripción en oraciones\n",
    "    predicciones = classifier(oraciones)\n",
    "    max_scores = calcular_max_scores_emocion(predicciones) #obtenemos el máximo score de las emociones\n",
    "    for label in labels_emociones:\n",
    "        scores_emocion[label].append(max_scores[label]) #agregamos al diccionario los máximos scores de cada emoción"
   ],
   "id": "9939f3faecb8e236",
   "outputs": [],
   "execution_count": 13
  },
  {
   "metadata": {
    "ExecuteTime": {
     "end_time": "2025-06-28T05:53:05.120639Z",
     "start_time": "2025-06-28T05:53:05.114418Z"
    }
   },
   "cell_type": "code",
   "source": "scores_emocion",
   "id": "c78521886c4a284",
   "outputs": [
    {
     "data": {
      "text/plain": [
       "{'anger': [np.float64(0.0641336441040039),\n",
       "  np.float64(0.6126197576522827),\n",
       "  np.float64(0.0641336441040039),\n",
       "  np.float64(0.35148438811302185),\n",
       "  np.float64(0.08141235262155533),\n",
       "  np.float64(0.2322252243757248),\n",
       "  np.float64(0.5381842255592346),\n",
       "  np.float64(0.0641336441040039),\n",
       "  np.float64(0.3006700277328491),\n",
       "  np.float64(0.0641336441040039)],\n",
       " 'disgust': [np.float64(0.27359163761138916),\n",
       "  np.float64(0.3482847511768341),\n",
       "  np.float64(0.10400667786598206),\n",
       "  np.float64(0.1507224589586258),\n",
       "  np.float64(0.18449543416500092),\n",
       "  np.float64(0.7271744608879089),\n",
       "  np.float64(0.155854731798172),\n",
       "  np.float64(0.10400667786598206),\n",
       "  np.float64(0.2794816195964813),\n",
       "  np.float64(0.17792661488056183)],\n",
       " 'fear': [np.float64(0.9281681180000305),\n",
       "  np.float64(0.9425276517868042),\n",
       "  np.float64(0.9723208546638489),\n",
       "  np.float64(0.3607059419155121),\n",
       "  np.float64(0.09504333138465881),\n",
       "  np.float64(0.05136283114552498),\n",
       "  np.float64(0.7474274635314941),\n",
       "  np.float64(0.4044976532459259),\n",
       "  np.float64(0.9155241250991821),\n",
       "  np.float64(0.05136283114552498)],\n",
       " 'joy': [np.float64(0.932798445224762),\n",
       "  np.float64(0.7044219970703125),\n",
       "  np.float64(0.7672380805015564),\n",
       "  np.float64(0.2518811821937561),\n",
       "  np.float64(0.04056443274021149),\n",
       "  np.float64(0.043375786393880844),\n",
       "  np.float64(0.872565746307373),\n",
       "  np.float64(0.04056443274021149),\n",
       "  np.float64(0.04056443274021149),\n",
       "  np.float64(0.04056443274021149)],\n",
       " 'neutral': [np.float64(0.6462159752845764),\n",
       "  np.float64(0.8879395127296448),\n",
       "  np.float64(0.5494767427444458),\n",
       "  np.float64(0.7326844930648804),\n",
       "  np.float64(0.8843896985054016),\n",
       "  np.float64(0.621392011642456),\n",
       "  np.float64(0.7121941447257996),\n",
       "  np.float64(0.5494767427444458),\n",
       "  np.float64(0.840289294719696),\n",
       "  np.float64(0.8603722453117371)],\n",
       " 'sadness': [np.float64(0.9671575427055359),\n",
       "  np.float64(0.11169017851352692),\n",
       "  np.float64(0.11169017851352692),\n",
       "  np.float64(0.11169017851352692),\n",
       "  np.float64(0.47588053345680237),\n",
       "  np.float64(0.11169017851352692),\n",
       "  np.float64(0.40800127387046814),\n",
       "  np.float64(0.8202826380729675),\n",
       "  np.float64(0.35446077585220337),\n",
       "  np.float64(0.11169017851352692)],\n",
       " 'surprise': [np.float64(0.7296020984649658),\n",
       "  np.float64(0.252546101808548),\n",
       "  np.float64(0.07876550406217575),\n",
       "  np.float64(0.07876550406217575),\n",
       "  np.float64(0.07876550406217575),\n",
       "  np.float64(0.27190330624580383),\n",
       "  np.float64(0.07876550406217575),\n",
       "  np.float64(0.2344866842031479),\n",
       "  np.float64(0.13561423122882843),\n",
       "  np.float64(0.07876550406217575)]}"
      ]
     },
     "execution_count": 14,
     "metadata": {},
     "output_type": "execute_result"
    }
   ],
   "execution_count": 14
  },
  {
   "metadata": {},
   "cell_type": "markdown",
   "source": "Ya que el algoritmo funciona, lo aplicamos para todos los libros.",
   "id": "c04cd2864f290273"
  },
  {
   "metadata": {
    "ExecuteTime": {
     "end_time": "2025-06-28T06:05:46.056964Z",
     "start_time": "2025-06-28T05:53:05.178894Z"
    }
   },
   "cell_type": "code",
   "source": [
    "#Aplicando función\n",
    "from tqdm import tqdm\n",
    "\n",
    "#Reiniciamos variables\n",
    "labels_emociones = [\"anger\", \"disgust\", \"fear\", \"joy\", \"neutral\", \"sadness\", \"surprise\"]\n",
    "isbn = [] #para guardar códigos isbn13\n",
    "scores_emocion = {label: [] for label in labels_emociones} #diccionario\n",
    "\n",
    "for i in tqdm(range(len(libros))):\n",
    "    isbn.append(libros[\"isbn13\"][i]) #guardamos codigos isbn13 en lista\n",
    "    oraciones = libros[\"description\"][i].split(\".\") #diviendo descripción en oraciones\n",
    "    predicciones = classifier(oraciones)\n",
    "    max_scores = calcular_max_scores_emocion(predicciones) #obtenemos el máximo score de las emociones\n",
    "    for label in labels_emociones:\n",
    "        scores_emocion[label].append(max_scores[label]) #agregamos al diccionario los máximos scores de cada emoción"
   ],
   "id": "d41d5c5893336f6c",
   "outputs": [
    {
     "name": "stderr",
     "output_type": "stream",
     "text": [
      "100%|██████████| 5197/5197 [12:40<00:00,  6.83it/s]\n"
     ]
    }
   ],
   "execution_count": 15
  },
  {
   "metadata": {
    "ExecuteTime": {
     "end_time": "2025-06-28T06:05:46.187721Z",
     "start_time": "2025-06-28T06:05:46.157230Z"
    }
   },
   "cell_type": "code",
   "source": [
    "#Convertimos el diccionario a dataframe\n",
    "df_emociones = pd.DataFrame(scores_emocion)\n",
    "df_emociones[\"isbn13\"] = isbn"
   ],
   "id": "54e3f935189849af",
   "outputs": [],
   "execution_count": 16
  },
  {
   "metadata": {
    "ExecuteTime": {
     "end_time": "2025-06-28T06:05:46.242768Z",
     "start_time": "2025-06-28T06:05:46.219522Z"
    }
   },
   "cell_type": "code",
   "source": "df_emociones",
   "id": "d31b0c0e60bb66e2",
   "outputs": [
    {
     "data": {
      "text/plain": [
       "         anger   disgust      fear       joy   neutral   sadness  surprise  \\\n",
       "0     0.064134  0.273592  0.928168  0.932798  0.646216  0.967158  0.729602   \n",
       "1     0.612620  0.348285  0.942528  0.704422  0.887940  0.111690  0.252546   \n",
       "2     0.064134  0.104007  0.972321  0.767238  0.549477  0.111690  0.078766   \n",
       "3     0.351484  0.150722  0.360706  0.251881  0.732684  0.111690  0.078766   \n",
       "4     0.081412  0.184495  0.095043  0.040564  0.884390  0.475881  0.078766   \n",
       "...        ...       ...       ...       ...       ...       ...       ...   \n",
       "5192  0.148208  0.030643  0.919165  0.255172  0.853721  0.980877  0.030656   \n",
       "5193  0.064134  0.114383  0.051363  0.400262  0.883198  0.111690  0.227765   \n",
       "5194  0.009997  0.009929  0.339218  0.947779  0.375754  0.066685  0.057625   \n",
       "5195  0.064134  0.104007  0.459269  0.759456  0.951104  0.368111  0.078766   \n",
       "5196  0.064134  0.104007  0.051363  0.958549  0.915193  0.111690  0.078766   \n",
       "\n",
       "             isbn13  \n",
       "0     9780002005883  \n",
       "1     9780002261982  \n",
       "2     9780006178736  \n",
       "3     9780006280897  \n",
       "4     9780006280934  \n",
       "...             ...  \n",
       "5192  9788172235222  \n",
       "5193  9788173031014  \n",
       "5194  9788179921623  \n",
       "5195  9788185300535  \n",
       "5196  9789027712059  \n",
       "\n",
       "[5197 rows x 8 columns]"
      ],
      "text/html": [
       "<div>\n",
       "<style scoped>\n",
       "    .dataframe tbody tr th:only-of-type {\n",
       "        vertical-align: middle;\n",
       "    }\n",
       "\n",
       "    .dataframe tbody tr th {\n",
       "        vertical-align: top;\n",
       "    }\n",
       "\n",
       "    .dataframe thead th {\n",
       "        text-align: right;\n",
       "    }\n",
       "</style>\n",
       "<table border=\"1\" class=\"dataframe\">\n",
       "  <thead>\n",
       "    <tr style=\"text-align: right;\">\n",
       "      <th></th>\n",
       "      <th>anger</th>\n",
       "      <th>disgust</th>\n",
       "      <th>fear</th>\n",
       "      <th>joy</th>\n",
       "      <th>neutral</th>\n",
       "      <th>sadness</th>\n",
       "      <th>surprise</th>\n",
       "      <th>isbn13</th>\n",
       "    </tr>\n",
       "  </thead>\n",
       "  <tbody>\n",
       "    <tr>\n",
       "      <th>0</th>\n",
       "      <td>0.064134</td>\n",
       "      <td>0.273592</td>\n",
       "      <td>0.928168</td>\n",
       "      <td>0.932798</td>\n",
       "      <td>0.646216</td>\n",
       "      <td>0.967158</td>\n",
       "      <td>0.729602</td>\n",
       "      <td>9780002005883</td>\n",
       "    </tr>\n",
       "    <tr>\n",
       "      <th>1</th>\n",
       "      <td>0.612620</td>\n",
       "      <td>0.348285</td>\n",
       "      <td>0.942528</td>\n",
       "      <td>0.704422</td>\n",
       "      <td>0.887940</td>\n",
       "      <td>0.111690</td>\n",
       "      <td>0.252546</td>\n",
       "      <td>9780002261982</td>\n",
       "    </tr>\n",
       "    <tr>\n",
       "      <th>2</th>\n",
       "      <td>0.064134</td>\n",
       "      <td>0.104007</td>\n",
       "      <td>0.972321</td>\n",
       "      <td>0.767238</td>\n",
       "      <td>0.549477</td>\n",
       "      <td>0.111690</td>\n",
       "      <td>0.078766</td>\n",
       "      <td>9780006178736</td>\n",
       "    </tr>\n",
       "    <tr>\n",
       "      <th>3</th>\n",
       "      <td>0.351484</td>\n",
       "      <td>0.150722</td>\n",
       "      <td>0.360706</td>\n",
       "      <td>0.251881</td>\n",
       "      <td>0.732684</td>\n",
       "      <td>0.111690</td>\n",
       "      <td>0.078766</td>\n",
       "      <td>9780006280897</td>\n",
       "    </tr>\n",
       "    <tr>\n",
       "      <th>4</th>\n",
       "      <td>0.081412</td>\n",
       "      <td>0.184495</td>\n",
       "      <td>0.095043</td>\n",
       "      <td>0.040564</td>\n",
       "      <td>0.884390</td>\n",
       "      <td>0.475881</td>\n",
       "      <td>0.078766</td>\n",
       "      <td>9780006280934</td>\n",
       "    </tr>\n",
       "    <tr>\n",
       "      <th>...</th>\n",
       "      <td>...</td>\n",
       "      <td>...</td>\n",
       "      <td>...</td>\n",
       "      <td>...</td>\n",
       "      <td>...</td>\n",
       "      <td>...</td>\n",
       "      <td>...</td>\n",
       "      <td>...</td>\n",
       "    </tr>\n",
       "    <tr>\n",
       "      <th>5192</th>\n",
       "      <td>0.148208</td>\n",
       "      <td>0.030643</td>\n",
       "      <td>0.919165</td>\n",
       "      <td>0.255172</td>\n",
       "      <td>0.853721</td>\n",
       "      <td>0.980877</td>\n",
       "      <td>0.030656</td>\n",
       "      <td>9788172235222</td>\n",
       "    </tr>\n",
       "    <tr>\n",
       "      <th>5193</th>\n",
       "      <td>0.064134</td>\n",
       "      <td>0.114383</td>\n",
       "      <td>0.051363</td>\n",
       "      <td>0.400262</td>\n",
       "      <td>0.883198</td>\n",
       "      <td>0.111690</td>\n",
       "      <td>0.227765</td>\n",
       "      <td>9788173031014</td>\n",
       "    </tr>\n",
       "    <tr>\n",
       "      <th>5194</th>\n",
       "      <td>0.009997</td>\n",
       "      <td>0.009929</td>\n",
       "      <td>0.339218</td>\n",
       "      <td>0.947779</td>\n",
       "      <td>0.375754</td>\n",
       "      <td>0.066685</td>\n",
       "      <td>0.057625</td>\n",
       "      <td>9788179921623</td>\n",
       "    </tr>\n",
       "    <tr>\n",
       "      <th>5195</th>\n",
       "      <td>0.064134</td>\n",
       "      <td>0.104007</td>\n",
       "      <td>0.459269</td>\n",
       "      <td>0.759456</td>\n",
       "      <td>0.951104</td>\n",
       "      <td>0.368111</td>\n",
       "      <td>0.078766</td>\n",
       "      <td>9788185300535</td>\n",
       "    </tr>\n",
       "    <tr>\n",
       "      <th>5196</th>\n",
       "      <td>0.064134</td>\n",
       "      <td>0.104007</td>\n",
       "      <td>0.051363</td>\n",
       "      <td>0.958549</td>\n",
       "      <td>0.915193</td>\n",
       "      <td>0.111690</td>\n",
       "      <td>0.078766</td>\n",
       "      <td>9789027712059</td>\n",
       "    </tr>\n",
       "  </tbody>\n",
       "</table>\n",
       "<p>5197 rows × 8 columns</p>\n",
       "</div>"
      ]
     },
     "execution_count": 17,
     "metadata": {},
     "output_type": "execute_result"
    }
   ],
   "execution_count": 17
  },
  {
   "metadata": {
    "ExecuteTime": {
     "end_time": "2025-06-28T06:05:46.307985Z",
     "start_time": "2025-06-28T06:05:46.285458Z"
    }
   },
   "cell_type": "code",
   "source": [
    "#Fusionamos el nuevo dataframe al dataframe original (libros)\n",
    "libros = pd.merge(libros, df_emociones, on=\"isbn13\")"
   ],
   "id": "4cb6b713df734c89",
   "outputs": [],
   "execution_count": 18
  },
  {
   "metadata": {
    "ExecuteTime": {
     "end_time": "2025-06-28T06:05:48.010962300Z",
     "start_time": "2025-06-27T01:31:16.061519Z"
    }
   },
   "cell_type": "code",
   "source": [
    "#Exportamos el dataset a CSV\n",
    "libros.to_csv(\"books_with_emotions.csv\", index=False)"
   ],
   "id": "c8fb5139a08bcc01",
   "outputs": [],
   "execution_count": 24
  }
 ],
 "metadata": {
  "kernelspec": {
   "display_name": "Python 3",
   "language": "python",
   "name": "python3"
  },
  "language_info": {
   "codemirror_mode": {
    "name": "ipython",
    "version": 2
   },
   "file_extension": ".py",
   "mimetype": "text/x-python",
   "name": "python",
   "nbconvert_exporter": "python",
   "pygments_lexer": "ipython2",
   "version": "2.7.6"
  }
 },
 "nbformat": 4,
 "nbformat_minor": 5
}
